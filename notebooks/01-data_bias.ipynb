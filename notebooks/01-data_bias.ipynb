{
 "cells": [
  {
   "cell_type": "markdown",
   "metadata": {},
   "source": [
    "# 01 - Detect data bias"
   ]
  },
  {
   "cell_type": "markdown",
   "metadata": {},
   "source": [
    "Let's first load our challenge dataset into a pandas dataframe. The dataset was downloadded from kaggle."
   ]
  },
  {
   "cell_type": "code",
   "execution_count": 1,
   "metadata": {},
   "outputs": [
    {
     "data": {
      "text/html": [
       "<div>\n",
       "<style scoped>\n",
       "    .dataframe tbody tr th:only-of-type {\n",
       "        vertical-align: middle;\n",
       "    }\n",
       "\n",
       "    .dataframe tbody tr th {\n",
       "        vertical-align: top;\n",
       "    }\n",
       "\n",
       "    .dataframe thead th {\n",
       "        text-align: right;\n",
       "    }\n",
       "</style>\n",
       "<table border=\"1\" class=\"dataframe\">\n",
       "  <thead>\n",
       "    <tr style=\"text-align: right;\">\n",
       "      <th></th>\n",
       "      <th>minority</th>\n",
       "      <th>sex</th>\n",
       "      <th>ZIP</th>\n",
       "      <th>rent</th>\n",
       "      <th>education</th>\n",
       "      <th>age</th>\n",
       "      <th>income</th>\n",
       "      <th>loan_size</th>\n",
       "      <th>payment_timing</th>\n",
       "      <th>year</th>\n",
       "      <th>job_stability</th>\n",
       "      <th>default</th>\n",
       "      <th>occupation</th>\n",
       "    </tr>\n",
       "  </thead>\n",
       "  <tbody>\n",
       "    <tr>\n",
       "      <th>0</th>\n",
       "      <td>minority-yes</td>\n",
       "      <td>male</td>\n",
       "      <td>MT04PA</td>\n",
       "      <td>1</td>\n",
       "      <td>57.230650</td>\n",
       "      <td>36.050927</td>\n",
       "      <td>205168.022244</td>\n",
       "      <td>7600.292199</td>\n",
       "      <td>3.302193</td>\n",
       "      <td>0</td>\n",
       "      <td>3.015554</td>\n",
       "      <td>default-yes</td>\n",
       "      <td>MZ10CD</td>\n",
       "    </tr>\n",
       "    <tr>\n",
       "      <th>1</th>\n",
       "      <td>minority-yes</td>\n",
       "      <td>male</td>\n",
       "      <td>MT04PA</td>\n",
       "      <td>1</td>\n",
       "      <td>45.891343</td>\n",
       "      <td>59.525251</td>\n",
       "      <td>187530.409981</td>\n",
       "      <td>5534.271289</td>\n",
       "      <td>3.843058</td>\n",
       "      <td>0</td>\n",
       "      <td>5.938132</td>\n",
       "      <td>default-yes</td>\n",
       "      <td>MZ10CD</td>\n",
       "    </tr>\n",
       "    <tr>\n",
       "      <th>2</th>\n",
       "      <td>minority-yes</td>\n",
       "      <td>male</td>\n",
       "      <td>MT04PA</td>\n",
       "      <td>1</td>\n",
       "      <td>46.775489</td>\n",
       "      <td>67.338108</td>\n",
       "      <td>196912.006690</td>\n",
       "      <td>2009.903438</td>\n",
       "      <td>2.059034</td>\n",
       "      <td>0</td>\n",
       "      <td>2.190777</td>\n",
       "      <td>default-yes</td>\n",
       "      <td>MZ10CD</td>\n",
       "    </tr>\n",
       "    <tr>\n",
       "      <th>3</th>\n",
       "      <td>minority-yes</td>\n",
       "      <td>male</td>\n",
       "      <td>MT04PA</td>\n",
       "      <td>1</td>\n",
       "      <td>41.784839</td>\n",
       "      <td>24.067401</td>\n",
       "      <td>132911.650615</td>\n",
       "      <td>3112.280893</td>\n",
       "      <td>3.936169</td>\n",
       "      <td>0</td>\n",
       "      <td>1.725860</td>\n",
       "      <td>default-yes</td>\n",
       "      <td>MZ10CD</td>\n",
       "    </tr>\n",
       "    <tr>\n",
       "      <th>4</th>\n",
       "      <td>minority-yes</td>\n",
       "      <td>male</td>\n",
       "      <td>MT04PA</td>\n",
       "      <td>1</td>\n",
       "      <td>41.744838</td>\n",
       "      <td>47.496605</td>\n",
       "      <td>161162.551205</td>\n",
       "      <td>1372.077093</td>\n",
       "      <td>3.709910</td>\n",
       "      <td>0</td>\n",
       "      <td>0.883104</td>\n",
       "      <td>default-yes</td>\n",
       "      <td>MZ10CD</td>\n",
       "    </tr>\n",
       "  </tbody>\n",
       "</table>\n",
       "</div>"
      ],
      "text/plain": [
       "       minority   sex     ZIP  rent  education        age         income  \\\n",
       "0  minority-yes  male  MT04PA     1  57.230650  36.050927  205168.022244   \n",
       "1  minority-yes  male  MT04PA     1  45.891343  59.525251  187530.409981   \n",
       "2  minority-yes  male  MT04PA     1  46.775489  67.338108  196912.006690   \n",
       "3  minority-yes  male  MT04PA     1  41.784839  24.067401  132911.650615   \n",
       "4  minority-yes  male  MT04PA     1  41.744838  47.496605  161162.551205   \n",
       "\n",
       "     loan_size  payment_timing  year  job_stability      default occupation  \n",
       "0  7600.292199        3.302193     0       3.015554  default-yes     MZ10CD  \n",
       "1  5534.271289        3.843058     0       5.938132  default-yes     MZ10CD  \n",
       "2  2009.903438        2.059034     0       2.190777  default-yes     MZ10CD  \n",
       "3  3112.280893        3.936169     0       1.725860  default-yes     MZ10CD  \n",
       "4  1372.077093        3.709910     0       0.883104  default-yes     MZ10CD  "
      ]
     },
     "execution_count": 1,
     "metadata": {},
     "output_type": "execute_result"
    }
   ],
   "source": [
    "import pandas as pd\n",
    "\n",
    "loan_dataset = pd.read_csv(\"../datasets/loan.csv\")\n",
    "loan_dataset.head()"
   ]
  },
  {
   "cell_type": "markdown",
   "metadata": {},
   "source": [
    "Let's inspect the columns of the dataset. These will be the features for our prediction problem, but also contain the __outcome variable__, that is, the variable to be predicted:"
   ]
  },
  {
   "cell_type": "code",
   "execution_count": 2,
   "metadata": {},
   "outputs": [
    {
     "data": {
      "text/plain": [
       "Index(['minority', 'sex', 'ZIP', 'rent', 'education', 'age', 'income',\n",
       "       'loan_size', 'payment_timing', 'year', 'job_stability', 'default',\n",
       "       'occupation'],\n",
       "      dtype='object')"
      ]
     },
     "execution_count": 2,
     "metadata": {},
     "output_type": "execute_result"
    }
   ],
   "source": [
    "loan_dataset.columns"
   ]
  },
  {
   "cell_type": "markdown",
   "metadata": {},
   "source": [
    "Let's inspect the number of observations (`n_samples`) that our dataset has:"
   ]
  },
  {
   "cell_type": "code",
   "execution_count": 3,
   "metadata": {},
   "outputs": [
    {
     "name": "stdout",
     "output_type": "stream",
     "text": [
      "Number of observations: 480000\n"
     ]
    }
   ],
   "source": [
    "print(f\"Number of observations: {len(loan_dataset)}\")"
   ]
  },
  {
   "cell_type": "markdown",
   "metadata": {},
   "source": [
    "Let's define which features of the dataset are numerical and which categorical:\n",
    "\n"
   ]
  },
  {
   "cell_type": "code",
   "execution_count": 4,
   "metadata": {},
   "outputs": [],
   "source": [
    "# Define categorical features\n",
    "categorical_features = [\"sex\", \"rent\", \"minority\", \"ZIP\", \"occupation\"]\n",
    "\n",
    "# Define numeric features\n",
    "numeric_features = [\n",
    "    \"education\", \"age\", \"income\", \"loan_size\", \"payment_timing\",\n",
    "    \"year\", \"job_stability\"\n",
    "]\n",
    "\n",
    "# Set dtype for categorical features\n",
    "for cat in categorical_features:\n",
    "    loan_dataset[cat] = loan_dataset[cat].astype(\"object\")"
   ]
  },
  {
   "cell_type": "markdown",
   "metadata": {},
   "source": [
    "Let's create the `X` and `y` that will be the input of our machine learning algorithm:"
   ]
  },
  {
   "cell_type": "code",
   "execution_count": 5,
   "metadata": {},
   "outputs": [],
   "source": [
    "# Define X\n",
    "X = loan_dataset.copy().drop([\"minority\", \"default\"], axis=1)\n",
    "\n",
    "# Define y\n",
    "y = loan_dataset.copy()[\"default\"]"
   ]
  },
  {
   "cell_type": "markdown",
   "metadata": {},
   "source": [
    "To detect dataset, bias, we first need to define which will be our __sensitive features__. That is, the features that the modeler should take into account when evaluating the fairness of the data or algorithm. In our case we will define `minority` and `sex` as sensitive features:"
   ]
  },
  {
   "cell_type": "code",
   "execution_count": 6,
   "metadata": {},
   "outputs": [],
   "source": [
    "# Define sensitive features:\n",
    "sensitive_features = [\"minority\", \"sex\"]"
   ]
  },
  {
   "cell_type": "markdown",
   "metadata": {},
   "source": [
    "Let's inspect if the number of observations is __balanced__ with respect to each sensitive feature:"
   ]
  },
  {
   "cell_type": "code",
   "execution_count": 7,
   "metadata": {},
   "outputs": [
    {
     "name": "stdout",
     "output_type": "stream",
     "text": [
      "Number of occurrances per `minority` value:\n"
     ]
    },
    {
     "data": {
      "text/plain": [
       "minority-no     240167\n",
       "minority-yes    239833\n",
       "Name: minority, dtype: int64"
      ]
     },
     "metadata": {},
     "output_type": "display_data"
    },
    {
     "name": "stdout",
     "output_type": "stream",
     "text": [
      "\n",
      "\n",
      "Number of occurrances per `sex` value:\n"
     ]
    },
    {
     "data": {
      "text/plain": [
       "male      240000\n",
       "female    240000\n",
       "Name: sex, dtype: int64"
      ]
     },
     "metadata": {},
     "output_type": "display_data"
    },
    {
     "name": "stdout",
     "output_type": "stream",
     "text": [
      "\n",
      "\n"
     ]
    }
   ],
   "source": [
    "for f in sensitive_features:\n",
    "    print(f\"Number of occurrances per `{f}` value:\")\n",
    "    balance_samples_df = loan_dataset[f].copy().value_counts()\n",
    "    display(balance_samples_df)\n",
    "    print(\"\\n\")"
   ]
  },
  {
   "cell_type": "markdown",
   "metadata": {},
   "source": [
    "Let's also inspect the number of observations per sensitive feature and values of the outcome variable:"
   ]
  },
  {
   "cell_type": "code",
   "execution_count": 8,
   "metadata": {},
   "outputs": [
    {
     "name": "stdout",
     "output_type": "stream",
     "text": [
      "Number of occurrances per `minority` value:\n"
     ]
    },
    {
     "data": {
      "text/plain": [
       "minority      default    \n",
       "minority-no   default-no     239818\n",
       "              default-yes       349\n",
       "minority-yes  default-no        255\n",
       "              default-yes    239578\n",
       "Name: number, dtype: int64"
      ]
     },
     "metadata": {},
     "output_type": "display_data"
    },
    {
     "name": "stdout",
     "output_type": "stream",
     "text": [
      "\n",
      "\n",
      "Number of occurrances per `sex` value:\n"
     ]
    },
    {
     "data": {
      "text/plain": [
       "sex     default    \n",
       "female  default-no     120073\n",
       "        default-yes    119927\n",
       "male    default-no     120000\n",
       "        default-yes    120000\n",
       "Name: number, dtype: int64"
      ]
     },
     "metadata": {},
     "output_type": "display_data"
    },
    {
     "name": "stdout",
     "output_type": "stream",
     "text": [
      "\n",
      "\n"
     ]
    }
   ],
   "source": [
    "for f in sensitive_features:\n",
    "    print(f\"Number of occurrances per `{f}` value:\")\n",
    "    balance_outcome_df = loan_dataset.copy().groupby([f, \"default\"]).size()\n",
    "    balance_outcome_df.name = \"number\"\n",
    "    display(balance_outcome_df)\n",
    "    print(\"\\n\")"
   ]
  },
  {
   "cell_type": "markdown",
   "metadata": {},
   "source": [
    "Let's know inspect how __sensitive features relate__ to __other categorical features__."
   ]
  },
  {
   "cell_type": "code",
   "execution_count": 9,
   "metadata": {},
   "outputs": [
    {
     "name": "stdout",
     "output_type": "stream",
     "text": [
      "This is how minority releates to other categorical features:\n"
     ]
    },
    {
     "data": {
      "text/html": [
       "<div>\n",
       "<style scoped>\n",
       "    .dataframe tbody tr th:only-of-type {\n",
       "        vertical-align: middle;\n",
       "    }\n",
       "\n",
       "    .dataframe tbody tr th {\n",
       "        vertical-align: top;\n",
       "    }\n",
       "\n",
       "    .dataframe thead th {\n",
       "        text-align: right;\n",
       "    }\n",
       "</style>\n",
       "<table border=\"1\" class=\"dataframe\">\n",
       "  <thead>\n",
       "    <tr style=\"text-align: right;\">\n",
       "      <th></th>\n",
       "      <th>sex_female</th>\n",
       "      <th>sex_male</th>\n",
       "      <th>ZIP_MT01RA</th>\n",
       "      <th>ZIP_MT04PA</th>\n",
       "      <th>ZIP_MT12RA</th>\n",
       "      <th>ZIP_MT15PA</th>\n",
       "      <th>rent_0</th>\n",
       "      <th>rent_1</th>\n",
       "      <th>default_default-no</th>\n",
       "      <th>default_default-yes</th>\n",
       "      <th>occupation_MZ01CD</th>\n",
       "      <th>occupation_MZ10CD</th>\n",
       "      <th>occupation_MZ11CD</th>\n",
       "    </tr>\n",
       "    <tr>\n",
       "      <th>minority</th>\n",
       "      <th></th>\n",
       "      <th></th>\n",
       "      <th></th>\n",
       "      <th></th>\n",
       "      <th></th>\n",
       "      <th></th>\n",
       "      <th></th>\n",
       "      <th></th>\n",
       "      <th></th>\n",
       "      <th></th>\n",
       "      <th></th>\n",
       "      <th></th>\n",
       "      <th></th>\n",
       "    </tr>\n",
       "  </thead>\n",
       "  <tbody>\n",
       "    <tr>\n",
       "      <th>minority-no</th>\n",
       "      <td>240167</td>\n",
       "      <td>240167</td>\n",
       "      <td>240167</td>\n",
       "      <td>240167</td>\n",
       "      <td>240167</td>\n",
       "      <td>240167</td>\n",
       "      <td>240167</td>\n",
       "      <td>240167</td>\n",
       "      <td>240167</td>\n",
       "      <td>240167</td>\n",
       "      <td>240167</td>\n",
       "      <td>240167</td>\n",
       "      <td>240167</td>\n",
       "    </tr>\n",
       "    <tr>\n",
       "      <th>minority-yes</th>\n",
       "      <td>239833</td>\n",
       "      <td>239833</td>\n",
       "      <td>239833</td>\n",
       "      <td>239833</td>\n",
       "      <td>239833</td>\n",
       "      <td>239833</td>\n",
       "      <td>239833</td>\n",
       "      <td>239833</td>\n",
       "      <td>239833</td>\n",
       "      <td>239833</td>\n",
       "      <td>239833</td>\n",
       "      <td>239833</td>\n",
       "      <td>239833</td>\n",
       "    </tr>\n",
       "  </tbody>\n",
       "</table>\n",
       "</div>"
      ],
      "text/plain": [
       "              sex_female  sex_male  ZIP_MT01RA  ZIP_MT04PA  ZIP_MT12RA  \\\n",
       "minority                                                                 \n",
       "minority-no       240167    240167      240167      240167      240167   \n",
       "minority-yes      239833    239833      239833      239833      239833   \n",
       "\n",
       "              ZIP_MT15PA  rent_0  rent_1  default_default-no  \\\n",
       "minority                                                       \n",
       "minority-no       240167  240167  240167              240167   \n",
       "minority-yes      239833  239833  239833              239833   \n",
       "\n",
       "              default_default-yes  occupation_MZ01CD  occupation_MZ10CD  \\\n",
       "minority                                                                  \n",
       "minority-no                240167             240167             240167   \n",
       "minority-yes               239833             239833             239833   \n",
       "\n",
       "              occupation_MZ11CD  \n",
       "minority                         \n",
       "minority-no              240167  \n",
       "minority-yes             239833  "
      ]
     },
     "metadata": {},
     "output_type": "display_data"
    },
    {
     "name": "stdout",
     "output_type": "stream",
     "text": [
      "\n",
      "\n",
      "This is how sex releates to other categorical features:\n"
     ]
    },
    {
     "data": {
      "text/html": [
       "<div>\n",
       "<style scoped>\n",
       "    .dataframe tbody tr th:only-of-type {\n",
       "        vertical-align: middle;\n",
       "    }\n",
       "\n",
       "    .dataframe tbody tr th {\n",
       "        vertical-align: top;\n",
       "    }\n",
       "\n",
       "    .dataframe thead th {\n",
       "        text-align: right;\n",
       "    }\n",
       "</style>\n",
       "<table border=\"1\" class=\"dataframe\">\n",
       "  <thead>\n",
       "    <tr style=\"text-align: right;\">\n",
       "      <th></th>\n",
       "      <th>minority_minority-no</th>\n",
       "      <th>minority_minority-yes</th>\n",
       "      <th>ZIP_MT01RA</th>\n",
       "      <th>ZIP_MT04PA</th>\n",
       "      <th>ZIP_MT12RA</th>\n",
       "      <th>ZIP_MT15PA</th>\n",
       "      <th>rent_0</th>\n",
       "      <th>rent_1</th>\n",
       "      <th>default_default-no</th>\n",
       "      <th>default_default-yes</th>\n",
       "      <th>occupation_MZ01CD</th>\n",
       "      <th>occupation_MZ10CD</th>\n",
       "      <th>occupation_MZ11CD</th>\n",
       "    </tr>\n",
       "    <tr>\n",
       "      <th>sex</th>\n",
       "      <th></th>\n",
       "      <th></th>\n",
       "      <th></th>\n",
       "      <th></th>\n",
       "      <th></th>\n",
       "      <th></th>\n",
       "      <th></th>\n",
       "      <th></th>\n",
       "      <th></th>\n",
       "      <th></th>\n",
       "      <th></th>\n",
       "      <th></th>\n",
       "      <th></th>\n",
       "    </tr>\n",
       "  </thead>\n",
       "  <tbody>\n",
       "    <tr>\n",
       "      <th>female</th>\n",
       "      <td>240000</td>\n",
       "      <td>240000</td>\n",
       "      <td>240000</td>\n",
       "      <td>240000</td>\n",
       "      <td>240000</td>\n",
       "      <td>240000</td>\n",
       "      <td>240000</td>\n",
       "      <td>240000</td>\n",
       "      <td>240000</td>\n",
       "      <td>240000</td>\n",
       "      <td>240000</td>\n",
       "      <td>240000</td>\n",
       "      <td>240000</td>\n",
       "    </tr>\n",
       "    <tr>\n",
       "      <th>male</th>\n",
       "      <td>240000</td>\n",
       "      <td>240000</td>\n",
       "      <td>240000</td>\n",
       "      <td>240000</td>\n",
       "      <td>240000</td>\n",
       "      <td>240000</td>\n",
       "      <td>240000</td>\n",
       "      <td>240000</td>\n",
       "      <td>240000</td>\n",
       "      <td>240000</td>\n",
       "      <td>240000</td>\n",
       "      <td>240000</td>\n",
       "      <td>240000</td>\n",
       "    </tr>\n",
       "  </tbody>\n",
       "</table>\n",
       "</div>"
      ],
      "text/plain": [
       "        minority_minority-no  minority_minority-yes  ZIP_MT01RA  ZIP_MT04PA  \\\n",
       "sex                                                                           \n",
       "female                240000                 240000      240000      240000   \n",
       "male                  240000                 240000      240000      240000   \n",
       "\n",
       "        ZIP_MT12RA  ZIP_MT15PA  rent_0  rent_1  default_default-no  \\\n",
       "sex                                                                  \n",
       "female      240000      240000  240000  240000              240000   \n",
       "male        240000      240000  240000  240000              240000   \n",
       "\n",
       "        default_default-yes  occupation_MZ01CD  occupation_MZ10CD  \\\n",
       "sex                                                                 \n",
       "female               240000             240000             240000   \n",
       "male                 240000             240000             240000   \n",
       "\n",
       "        occupation_MZ11CD  \n",
       "sex                        \n",
       "female             240000  \n",
       "male               240000  "
      ]
     },
     "metadata": {},
     "output_type": "display_data"
    },
    {
     "name": "stdout",
     "output_type": "stream",
     "text": [
      "\n",
      "\n"
     ]
    }
   ],
   "source": [
    "for f in sensitive_features:\n",
    "    print(f\"This is how {f} releates to other categorical features:\")\n",
    "    grouped_dataset = loan_dataset.copy().set_index(f)\n",
    "    categorical_dataset = (\n",
    "        grouped_dataset.copy().select_dtypes(include=[\"object\", \"bool\"])\n",
    "    )\n",
    "    categorical_dataset = pd.get_dummies(categorical_dataset)\n",
    "    display(categorical_dataset.groupby(level=0).count())\n",
    "    print(\"\\n\")"
   ]
  },
  {
   "cell_type": "markdown",
   "metadata": {},
   "source": [
    "Let's also plot these relationships:"
   ]
  },
  {
   "cell_type": "code",
   "execution_count": 10,
   "metadata": {},
   "outputs": [
    {
     "data": {
      "text/plain": [
       "<seaborn.axisgrid.FacetGrid at 0x11966e310>"
      ]
     },
     "execution_count": 10,
     "metadata": {},
     "output_type": "execute_result"
    },
    {
     "data": {
      "image/png": "[encoded data removed]",
      "text/plain": [
       "<Figure size 790.5x360 with 2 Axes>"
      ]
     },
     "metadata": {
      "needs_background": "light"
     },
     "output_type": "display_data"
    },
    {
     "data": {
      "image/png": "[encoded data removed]",
      "text/plain": [
       "<Figure size 790.5x360 with 2 Axes>"
      ]
     },
     "metadata": {
      "needs_background": "light"
     },
     "output_type": "display_data"
    },
    {
     "data": {
      "image/png": "[encoded data removed]",
      "text/plain": [
       "<Figure size 790.5x360 with 2 Axes>"
      ]
     },
     "metadata": {
      "needs_background": "light"
     },
     "output_type": "display_data"
    }
   ],
   "source": [
    "import matplotlib.pyplot as plt\n",
    "import seaborn as sns\n",
    "\n",
    "# Plot categorical plots\n",
    "sns.catplot(x=\"minority\", y=\"income\", hue=\"sex\", data=loan_dataset, col=\"default\", kind=\"bar\")\n",
    "sns.catplot(x=\"minority\", y=\"education\", hue=\"sex\", data=loan_dataset, col=\"default\", kind=\"bar\")\n",
    "sns.catplot(x=\"minority\", y=\"job_stability\", hue=\"sex\", data=loan_dataset, col=\"default\", kind=\"bar\")"
   ]
  },
  {
   "cell_type": "markdown",
   "metadata": {},
   "source": [
    "Let's know inspect how __sensitive features relate__ to __other continuous features__."
   ]
  },
  {
   "cell_type": "code",
   "execution_count": 11,
   "metadata": {},
   "outputs": [
    {
     "name": "stdout",
     "output_type": "stream",
     "text": [
      "This is how minority relates to other continuous variables\n"
     ]
    },
    {
     "data": {
      "text/html": [
       "<div>\n",
       "<style scoped>\n",
       "    .dataframe tbody tr th:only-of-type {\n",
       "        vertical-align: middle;\n",
       "    }\n",
       "\n",
       "    .dataframe tbody tr th {\n",
       "        vertical-align: top;\n",
       "    }\n",
       "\n",
       "    .dataframe thead th {\n",
       "        text-align: right;\n",
       "    }\n",
       "</style>\n",
       "<table border=\"1\" class=\"dataframe\">\n",
       "  <thead>\n",
       "    <tr style=\"text-align: right;\">\n",
       "      <th></th>\n",
       "      <th>education</th>\n",
       "      <th>age</th>\n",
       "      <th>income</th>\n",
       "      <th>loan_size</th>\n",
       "      <th>payment_timing</th>\n",
       "      <th>year</th>\n",
       "      <th>job_stability</th>\n",
       "    </tr>\n",
       "    <tr>\n",
       "      <th>minority</th>\n",
       "      <th></th>\n",
       "      <th></th>\n",
       "      <th></th>\n",
       "      <th></th>\n",
       "      <th></th>\n",
       "      <th></th>\n",
       "      <th></th>\n",
       "    </tr>\n",
       "  </thead>\n",
       "  <tbody>\n",
       "    <tr>\n",
       "      <th>minority-no</th>\n",
       "      <td>26.004133</td>\n",
       "      <td>43.005323</td>\n",
       "      <td>96153.156204</td>\n",
       "      <td>5001.262974</td>\n",
       "      <td>2.998046</td>\n",
       "      <td>14.502538</td>\n",
       "      <td>89.863856</td>\n",
       "    </tr>\n",
       "    <tr>\n",
       "      <th>minority-yes</th>\n",
       "      <td>26.039383</td>\n",
       "      <td>42.968505</td>\n",
       "      <td>96294.198185</td>\n",
       "      <td>5008.746145</td>\n",
       "      <td>3.001442</td>\n",
       "      <td>14.497459</td>\n",
       "      <td>2.061528</td>\n",
       "    </tr>\n",
       "  </tbody>\n",
       "</table>\n",
       "</div>"
      ],
      "text/plain": [
       "              education        age        income    loan_size  payment_timing  \\\n",
       "minority                                                                        \n",
       "minority-no   26.004133  43.005323  96153.156204  5001.262974        2.998046   \n",
       "minority-yes  26.039383  42.968505  96294.198185  5008.746145        3.001442   \n",
       "\n",
       "                   year  job_stability  \n",
       "minority                                \n",
       "minority-no   14.502538      89.863856  \n",
       "minority-yes  14.497459       2.061528  "
      ]
     },
     "metadata": {},
     "output_type": "display_data"
    },
    {
     "name": "stdout",
     "output_type": "stream",
     "text": [
      "\n",
      "\n",
      "This is how sex relates to other continuous variables\n"
     ]
    },
    {
     "data": {
      "text/html": [
       "<div>\n",
       "<style scoped>\n",
       "    .dataframe tbody tr th:only-of-type {\n",
       "        vertical-align: middle;\n",
       "    }\n",
       "\n",
       "    .dataframe tbody tr th {\n",
       "        vertical-align: top;\n",
       "    }\n",
       "\n",
       "    .dataframe thead th {\n",
       "        text-align: right;\n",
       "    }\n",
       "</style>\n",
       "<table border=\"1\" class=\"dataframe\">\n",
       "  <thead>\n",
       "    <tr style=\"text-align: right;\">\n",
       "      <th></th>\n",
       "      <th>education</th>\n",
       "      <th>age</th>\n",
       "      <th>income</th>\n",
       "      <th>loan_size</th>\n",
       "      <th>payment_timing</th>\n",
       "      <th>year</th>\n",
       "      <th>job_stability</th>\n",
       "    </tr>\n",
       "    <tr>\n",
       "      <th>sex</th>\n",
       "      <th></th>\n",
       "      <th></th>\n",
       "      <th></th>\n",
       "      <th></th>\n",
       "      <th></th>\n",
       "      <th></th>\n",
       "      <th></th>\n",
       "    </tr>\n",
       "  </thead>\n",
       "  <tbody>\n",
       "    <tr>\n",
       "      <th>female</th>\n",
       "      <td>2.006860</td>\n",
       "      <td>42.983031</td>\n",
       "      <td>7419.333176</td>\n",
       "      <td>5010.193518</td>\n",
       "      <td>2.997546</td>\n",
       "      <td>14.5</td>\n",
       "      <td>45.988904</td>\n",
       "    </tr>\n",
       "    <tr>\n",
       "      <th>male</th>\n",
       "      <td>50.036632</td>\n",
       "      <td>42.990822</td>\n",
       "      <td>185027.923071</td>\n",
       "      <td>4999.810394</td>\n",
       "      <td>3.001940</td>\n",
       "      <td>14.5</td>\n",
       "      <td>45.997575</td>\n",
       "    </tr>\n",
       "  </tbody>\n",
       "</table>\n",
       "</div>"
      ],
      "text/plain": [
       "        education        age         income    loan_size  payment_timing  \\\n",
       "sex                                                                        \n",
       "female   2.006860  42.983031    7419.333176  5010.193518        2.997546   \n",
       "male    50.036632  42.990822  185027.923071  4999.810394        3.001940   \n",
       "\n",
       "        year  job_stability  \n",
       "sex                          \n",
       "female  14.5      45.988904  \n",
       "male    14.5      45.997575  "
      ]
     },
     "metadata": {},
     "output_type": "display_data"
    },
    {
     "name": "stdout",
     "output_type": "stream",
     "text": [
      "\n",
      "\n"
     ]
    }
   ],
   "source": [
    "for f in sensitive_features:\n",
    "    print(f\"This is how {f} relates to other continuous variables\")\n",
    "    display(loan_dataset.groupby(f).mean())\n",
    "    print(\"\\n\")"
   ]
  },
  {
   "cell_type": "markdown",
   "metadata": {},
   "source": [
    "Let's plot the relationship between __minority__ and other __continuous features__:"
   ]
  },
  {
   "cell_type": "code",
   "execution_count": 12,
   "metadata": {},
   "outputs": [
    {
     "data": {
      "image/png": "[encoded data removed]",
      "text/plain": [
       "<Figure size 576x576 with 9 Axes>"
      ]
     },
     "metadata": {},
     "output_type": "display_data"
    }
   ],
   "source": [
    "import matplotlib.pyplot as plt\n",
    "import seaborn as sns\n",
    "\n",
    "# Set sns configuration\n",
    "sns.set(style='whitegrid', rc={\"grid.linewidth\": 0.1})\n",
    "sns.set_context(\"paper\", font_scale=1.3)     \n",
    "colors = [\"#F4EA77\", \"#89C63D\"]\n",
    "sns.set_palette(sns.color_palette(colors))\n",
    "\n",
    "# Plot figure\n",
    "nrows = int(len(numeric_features)/2)\n",
    "ncols = 3\n",
    "fig, axes = plt.subplots(nrows, ncols, figsize=(8, 8), constrained_layout=True)\n",
    "fig.suptitle(\"Minority and the Continuous variables\", fontsize=16)\n",
    "axes = axes.flatten()\n",
    "for c, num_col in enumerate(numeric_features):\n",
    "    sns.violinplot(x=\"minority\", y=num_col, data=loan_dataset, \n",
    "                   width=0.4, ax=axes[c],\n",
    "                   linewidth=0.75)\n",
    "    sns.despine()"
   ]
  },
  {
   "cell_type": "markdown",
   "metadata": {},
   "source": [
    "Let's plot the relationship between __sex__ and other __continuous features__:"
   ]
  },
  {
   "cell_type": "code",
   "execution_count": 13,
   "metadata": {},
   "outputs": [
    {
     "data": {
      "image/png": "[encoded data removed]",
      "text/plain": [
       "<Figure size 576x576 with 9 Axes>"
      ]
     },
     "metadata": {},
     "output_type": "display_data"
    }
   ],
   "source": [
    "# Plot figure\n",
    "nrows = int(len(numeric_features)/2)\n",
    "ncols = 3\n",
    "fig, axes = plt.subplots(nrows, ncols, figsize=(8, 8), constrained_layout=True)\n",
    "fig.suptitle(\"Sex and the Continuous variables\", fontsize=16)\n",
    "axes = axes.flatten()\n",
    "for c, num_col in enumerate(numeric_features):\n",
    "    sns.violinplot(x=\"sex\", y=num_col, data=loan_dataset, \n",
    "                   width=0.4, ax=axes[c],\n",
    "                   linewidth=0.75)\n",
    "    sns.despine()"
   ]
  },
  {
   "cell_type": "markdown",
   "metadata": {},
   "source": [
    "## Conclusions\n",
    "\n",
    "Overall, in our dataset it seems that:\n",
    "- __Minorities have lower job stability__ than non-minorities\n",
    "- __Men have higher education__ than woman\n",
    "- There is __no imbalance in the number__ of samples for each sensitive features\n"
   ]
  },
  {
   "cell_type": "markdown",
   "metadata": {},
   "source": []
  }
 ],
 "metadata": {
  "interpreter": {
   "hash": "bdbd3180ba5cae32418d1d035556d3995c87093ec1fce6e76abc81a7d668d5c3"
  },
  "kernelspec": {
   "display_name": "Python 3",
   "language": "python",
   "name": "python3"
  },
  "language_info": {
   "codemirror_mode": {
    "name": "ipython",
    "version": 3
   },
   "file_extension": ".py",
   "mimetype": "text/x-python",
   "name": "python",
   "nbconvert_exporter": "python",
   "pygments_lexer": "ipython3",
   "version": "3.8.10"
  }
 },
 "nbformat": 4,
 "nbformat_minor": 4
}
