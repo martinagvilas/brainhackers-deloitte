{
 "cells": [
  {
   "cell_type": "markdown",
   "id": "9afb4c67",
   "metadata": {},
   "source": [
    "# 02 - Detect Model Bias"
   ]
  },
  {
   "cell_type": "markdown",
   "id": "7f3f5511",
   "metadata": {},
   "source": [
    "Let's first import our dataset and pre-process it:"
   ]
  },
  {
   "cell_type": "code",
   "execution_count": 3,
   "id": "e8394e20",
   "metadata": {},
   "outputs": [],
   "source": [
    "import pandas as pd\n",
    "\n",
    "# Load dataset into dataframe\n",
    "loan_dataset = pd.read_csv(\"../datasets/loan.csv\")\n",
    "loan_dataset.head()\n",
    "\n",
    "# Prepare categorical and numeric features\n",
    "categorical_features = [\"sex\", \"rent\", \"minority\", \"ZIP\", \"occupation\"]\n",
    "numeric_features = [\n",
    "    \"education\", \"age\", \"income\", \"loan_size\", \"payment_timing\",\n",
    "    \"year\", \"job_stability\"\n",
    "]\n",
    "for cat in categorical_features:\n",
    "    loan_dataset[cat] = loan_dataset[cat].astype(\"object\")"
   ]
  },
  {
   "cell_type": "markdown",
   "id": "5f446260",
   "metadata": {},
   "source": [
    "We first need to define which variable is going to be our __outcome variable__ (the one we want to predict), and which are going to be our __sensitive features__ (those that the modeler should take into account when evaluating the fairness of the data or algorithm)."
   ]
  },
  {
   "cell_type": "code",
   "execution_count": 4,
   "id": "2c1ec33f",
   "metadata": {},
   "outputs": [],
   "source": [
    "# Define outcome variable:\n",
    "pred = \"default\"\n",
    "\n",
    "# Define sensitive features:\n",
    "sensitive_features = [\"minority\", \"sex\"]"
   ]
  },
  {
   "cell_type": "markdown",
   "id": "eb067bf2",
   "metadata": {},
   "source": [
    "Let's know get our data into the right format to be the input of a machine learning algorithms in scikit-learn:"
   ]
  },
  {
   "cell_type": "code",
   "execution_count": 5,
   "id": "37ba0340",
   "metadata": {},
   "outputs": [],
   "source": [
    "# Define X and y\n",
    "X = loan_dataset.copy().drop([pred], axis=1)\n",
    "y = (loan_dataset.copy()[pred] != f\"{pred}-no\").astype(int).values"
   ]
  },
  {
   "cell_type": "markdown",
   "id": "0c1327ea",
   "metadata": {},
   "source": [
    "We can now run a __logistic regression__ to predict our outcome variable:"
   ]
  },
  {
   "cell_type": "code",
   "execution_count": 6,
   "id": "761eca4e",
   "metadata": {},
   "outputs": [
    {
     "data": {
      "text/plain": [
       "Pipeline(steps=[('preprocessor',\n",
       "                 ColumnTransformer(transformers=[('num',\n",
       "                                                  Pipeline(steps=[('scaler',\n",
       "                                                                   StandardScaler())]),\n",
       "                                                  ['education', 'age', 'income',\n",
       "                                                   'loan_size',\n",
       "                                                   'payment_timing', 'year',\n",
       "                                                   'job_stability']),\n",
       "                                                 ('cat',\n",
       "                                                  OneHotEncoder(handle_unknown='ignore'),\n",
       "                                                  ['sex', 'rent', 'minority',\n",
       "                                                   'ZIP', 'occupation'])])),\n",
       "                ('classifier', LogisticRegression())])"
      ]
     },
     "execution_count": 6,
     "metadata": {},
     "output_type": "execute_result"
    }
   ],
   "source": [
    "from sklearn.compose import ColumnTransformer\n",
    "from sklearn.linear_model import LogisticRegression\n",
    "from sklearn.model_selection import train_test_split\n",
    "from sklearn.pipeline import Pipeline\n",
    "from sklearn.preprocessing import StandardScaler, OneHotEncoder\n",
    "\n",
    "# Create preprocessor of features\n",
    "numeric_transformer = Pipeline(steps=[\n",
    "    ('scaler', StandardScaler())]\n",
    ")\n",
    "\n",
    "categorical_transformer = OneHotEncoder(handle_unknown='ignore')\n",
    "\n",
    "preprocessor = ColumnTransformer(\n",
    "    transformers=[\n",
    "        ('num', numeric_transformer, numeric_features),\n",
    "        ('cat', categorical_transformer, categorical_features)\n",
    "    ]\n",
    ")\n",
    "\n",
    "# Create pipeline\n",
    "clf = Pipeline(\n",
    "    steps=[\n",
    "        ('preprocessor', preprocessor),\n",
    "        ('classifier', LogisticRegression())\n",
    "    ]\n",
    ")\n",
    "\n",
    "# Split into train and test dataset\n",
    "X_train, X_test, y_train, y_test = train_test_split(\n",
    "    X, y, random_state=42\n",
    ")\n",
    "\n",
    "# Train classifier\n",
    "clf.fit(X_train, y_train)"
   ]
  },
  {
   "cell_type": "markdown",
   "id": "25e41632",
   "metadata": {},
   "source": [
    "Let's use our models to make predictions on the whole dataset:"
   ]
  },
  {
   "cell_type": "code",
   "execution_count": 8,
   "id": "a0b832a5",
   "metadata": {},
   "outputs": [
    {
     "name": "stdout",
     "output_type": "stream",
     "text": [
      "Example of the first twenty predictions: [1 1 1 1 1 1 1 1 1 1 1 1 1 1 1 1 1 1 1 1]\n"
     ]
    }
   ],
   "source": [
    "# Predict\n",
    "y_pred = clf.predict(X)\n",
    "print(f\"Example of the first twenty predictions: {y_pred[:20]}\")"
   ]
  },
  {
   "cell_type": "markdown",
   "id": "09332b63",
   "metadata": {},
   "source": [
    "# Quality of service harm"
   ]
  },
  {
   "cell_type": "markdown",
   "id": "4a0ff7fe",
   "metadata": {},
   "source": [
    "Let's inspect how the accuracy of the model changes for the different __sensitive subpopulations__ defined by the __sensitive features__:"
   ]
  },
  {
   "cell_type": "code",
   "execution_count": 14,
   "id": "338e0acf",
   "metadata": {},
   "outputs": [
    {
     "data": {
      "text/html": [
       "<div>\n",
       "<style scoped>\n",
       "    .dataframe tbody tr th:only-of-type {\n",
       "        vertical-align: middle;\n",
       "    }\n",
       "\n",
       "    .dataframe tbody tr th {\n",
       "        vertical-align: top;\n",
       "    }\n",
       "\n",
       "    .dataframe thead th {\n",
       "        text-align: right;\n",
       "    }\n",
       "</style>\n",
       "<table border=\"1\" class=\"dataframe\">\n",
       "  <thead>\n",
       "    <tr style=\"text-align: right;\">\n",
       "      <th></th>\n",
       "      <th>precision</th>\n",
       "      <th>recall</th>\n",
       "    </tr>\n",
       "    <tr>\n",
       "      <th>minority</th>\n",
       "      <th></th>\n",
       "      <th></th>\n",
       "    </tr>\n",
       "  </thead>\n",
       "  <tbody>\n",
       "    <tr>\n",
       "      <th>minority-no</th>\n",
       "      <td>1.0</td>\n",
       "      <td>1.0</td>\n",
       "    </tr>\n",
       "    <tr>\n",
       "      <th>minority-yes</th>\n",
       "      <td>0.999695</td>\n",
       "      <td>1.0</td>\n",
       "    </tr>\n",
       "  </tbody>\n",
       "</table>\n",
       "</div>"
      ],
      "text/plain": [
       "             precision recall\n",
       "minority                     \n",
       "minority-no        1.0    1.0\n",
       "minority-yes  0.999695    1.0"
      ]
     },
     "metadata": {},
     "output_type": "display_data"
    },
    {
     "data": {
      "text/html": [
       "<div>\n",
       "<style scoped>\n",
       "    .dataframe tbody tr th:only-of-type {\n",
       "        vertical-align: middle;\n",
       "    }\n",
       "\n",
       "    .dataframe tbody tr th {\n",
       "        vertical-align: top;\n",
       "    }\n",
       "\n",
       "    .dataframe thead th {\n",
       "        text-align: right;\n",
       "    }\n",
       "</style>\n",
       "<table border=\"1\" class=\"dataframe\">\n",
       "  <thead>\n",
       "    <tr style=\"text-align: right;\">\n",
       "      <th></th>\n",
       "      <th>precision</th>\n",
       "      <th>recall</th>\n",
       "    </tr>\n",
       "    <tr>\n",
       "      <th>minority</th>\n",
       "      <th></th>\n",
       "      <th></th>\n",
       "    </tr>\n",
       "  </thead>\n",
       "  <tbody>\n",
       "    <tr>\n",
       "      <th>minority-no</th>\n",
       "      <td>1.0</td>\n",
       "      <td>1.0</td>\n",
       "    </tr>\n",
       "    <tr>\n",
       "      <th>minority-yes</th>\n",
       "      <td>0.999695</td>\n",
       "      <td>1.0</td>\n",
       "    </tr>\n",
       "  </tbody>\n",
       "</table>\n",
       "</div>"
      ],
      "text/plain": [
       "             precision recall\n",
       "minority                     \n",
       "minority-no        1.0    1.0\n",
       "minority-yes  0.999695    1.0"
      ]
     },
     "metadata": {},
     "output_type": "display_data"
    },
    {
     "name": "stdout",
     "output_type": "stream",
     "text": [
      "Overall precision and recall:\n"
     ]
    },
    {
     "data": {
      "text/html": [
       "<div>\n",
       "<style scoped>\n",
       "    .dataframe tbody tr th:only-of-type {\n",
       "        vertical-align: middle;\n",
       "    }\n",
       "\n",
       "    .dataframe tbody tr th {\n",
       "        vertical-align: top;\n",
       "    }\n",
       "\n",
       "    .dataframe thead th {\n",
       "        text-align: right;\n",
       "    }\n",
       "</style>\n",
       "<table border=\"1\" class=\"dataframe\">\n",
       "  <thead>\n",
       "    <tr style=\"text-align: right;\">\n",
       "      <th></th>\n",
       "      <th>Overall accuracy</th>\n",
       "    </tr>\n",
       "  </thead>\n",
       "  <tbody>\n",
       "    <tr>\n",
       "      <th>precision</th>\n",
       "      <td>0.999696</td>\n",
       "    </tr>\n",
       "    <tr>\n",
       "      <th>recall</th>\n",
       "      <td>1.0</td>\n",
       "    </tr>\n",
       "  </tbody>\n",
       "</table>\n",
       "</div>"
      ],
      "text/plain": [
       "          Overall accuracy\n",
       "precision         0.999696\n",
       "recall                 1.0"
      ]
     },
     "metadata": {},
     "output_type": "display_data"
    }
   ],
   "source": [
    "from fairlearn.metrics import MetricFrame\n",
    "from sklearn.metrics import recall_score, precision_score \n",
    "\n",
    "# Break precision and recall for different subpopulations\n",
    "for sf in sensitive_features:\n",
    "    grouped_metric = MetricFrame(\n",
    "        {\"precision\": precision_score, \"recall\": recall_score}, y, y_pred,\n",
    "        sensitive_features=loan_dataset[\"minority\"]\n",
    "    )\n",
    "    grouped_metric_df = grouped_metric.by_group\n",
    "    display(grouped_metric_df)\n",
    "\n",
    "print(f\"Overall precision and recall:\")\n",
    "display(pd.DataFrame(grouped_metric.overall, columns=[\"Overall accuracy\"]))"
   ]
  },
  {
   "cell_type": "markdown",
   "id": "5ffe5faf",
   "metadata": {},
   "source": [
    "# Quality of allocation harm"
   ]
  },
  {
   "cell_type": "markdown",
   "id": "764f595e",
   "metadata": {},
   "source": [
    "Let's know inspect which values of `default` get predicted for each sensitive subpopulation. We will print the propotion that was assigned to each label:"
   ]
  },
  {
   "cell_type": "code",
   "execution_count": 16,
   "id": "7b8471ae",
   "metadata": {},
   "outputs": [
    {
     "name": "stdout",
     "output_type": "stream",
     "text": [
      "Sensitive feature: minority\n"
     ]
    },
    {
     "data": {
      "text/html": [
       "<div>\n",
       "<style scoped>\n",
       "    .dataframe tbody tr th:only-of-type {\n",
       "        vertical-align: middle;\n",
       "    }\n",
       "\n",
       "    .dataframe tbody tr th {\n",
       "        vertical-align: top;\n",
       "    }\n",
       "\n",
       "    .dataframe thead th {\n",
       "        text-align: right;\n",
       "    }\n",
       "</style>\n",
       "<table border=\"1\" class=\"dataframe\">\n",
       "  <thead>\n",
       "    <tr style=\"text-align: right;\">\n",
       "      <th></th>\n",
       "      <th>default_predicted</th>\n",
       "      <th>default_true</th>\n",
       "    </tr>\n",
       "  </thead>\n",
       "  <tbody>\n",
       "    <tr>\n",
       "      <th>0</th>\n",
       "      <td>0.001453</td>\n",
       "      <td>0.001455</td>\n",
       "    </tr>\n",
       "    <tr>\n",
       "      <th>1</th>\n",
       "      <td>0.997851</td>\n",
       "      <td>0.998937</td>\n",
       "    </tr>\n",
       "  </tbody>\n",
       "</table>\n",
       "</div>"
      ],
      "text/plain": [
       "   default_predicted  default_true\n",
       "0           0.001453      0.001455\n",
       "1           0.997851      0.998937"
      ]
     },
     "metadata": {},
     "output_type": "display_data"
    },
    {
     "name": "stdout",
     "output_type": "stream",
     "text": [
      "Sensitive feature: sex\n"
     ]
    },
    {
     "data": {
      "text/html": [
       "<div>\n",
       "<style scoped>\n",
       "    .dataframe tbody tr th:only-of-type {\n",
       "        vertical-align: middle;\n",
       "    }\n",
       "\n",
       "    .dataframe tbody tr th {\n",
       "        vertical-align: top;\n",
       "    }\n",
       "\n",
       "    .dataframe thead th {\n",
       "        text-align: right;\n",
       "    }\n",
       "</style>\n",
       "<table border=\"1\" class=\"dataframe\">\n",
       "  <thead>\n",
       "    <tr style=\"text-align: right;\">\n",
       "      <th></th>\n",
       "      <th>default_predicted</th>\n",
       "      <th>default_true</th>\n",
       "    </tr>\n",
       "  </thead>\n",
       "  <tbody>\n",
       "    <tr>\n",
       "      <th>0</th>\n",
       "      <td>0.5</td>\n",
       "      <td>0.499696</td>\n",
       "    </tr>\n",
       "    <tr>\n",
       "      <th>1</th>\n",
       "      <td>0.5</td>\n",
       "      <td>0.500000</td>\n",
       "    </tr>\n",
       "  </tbody>\n",
       "</table>\n",
       "</div>"
      ],
      "text/plain": [
       "   default_predicted  default_true\n",
       "0                0.5      0.499696\n",
       "1                0.5      0.500000"
      ]
     },
     "metadata": {},
     "output_type": "display_data"
    }
   ],
   "source": [
    "for sf in sensitive_features:\n",
    "    print(f\"Sensitive feature: {sf}\")\n",
    "    pred_grouped = pd.DataFrame({f\"{sf}\": loan_dataset[sf], \"y_pred\": y_pred, \"y_true\": y})\n",
    "    pred_vals = pred_grouped.groupby(sf).sum().values / loan_dataset[sf].value_counts().values\n",
    "    pred_grouped = pd.DataFrame(pred_vals, columns=[f\"{pred}_predicted\", f\"{pred}_true\"])\n",
    "    display(pred_grouped)"
   ]
  },
  {
   "cell_type": "code",
   "execution_count": null,
   "id": "3c29d297",
   "metadata": {},
   "outputs": [],
   "source": []
  }
 ],
 "metadata": {
  "kernelspec": {
   "display_name": "Python 3",
   "language": "python",
   "name": "python3"
  },
  "language_info": {
   "codemirror_mode": {
    "name": "ipython",
    "version": 3
   },
   "file_extension": ".py",
   "mimetype": "text/x-python",
   "name": "python",
   "nbconvert_exporter": "python",
   "pygments_lexer": "ipython3",
   "version": "3.8.10"
  }
 },
 "nbformat": 4,
 "nbformat_minor": 5
}
