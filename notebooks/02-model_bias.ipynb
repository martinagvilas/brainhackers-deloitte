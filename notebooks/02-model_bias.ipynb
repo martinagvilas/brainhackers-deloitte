{
 "cells": [
  {
   "cell_type": "markdown",
   "id": "29d60893-5512-465b-8d72-2b80d6a6b171",
   "metadata": {},
   "source": [
    "# Detect unfair"
   ]
  },
  {
   "cell_type": "code",
   "execution_count": 132,
   "id": "549eb2a0-9fed-48d9-b630-6766331e0c1d",
   "metadata": {},
   "outputs": [],
   "source": [
    "import pandas as pd\n",
    "\n",
    "loan_dataset = pd.read_csv(\"../datasets/loan.csv\")\n",
    "loan_dataset.head()\n",
    "\n",
    "categorical_features = [\"sex\", \"rent\", \"minority\", \"ZIP\", \"occupation\"]\n",
    "numeric_features = [\n",
    "    \"education\", \"age\", \"income\", \"loan_size\", \"payment_timing\",\n",
    "    \"year\", \"job_stability\"\n",
    "]\n",
    "for cat in categorical_features:\n",
    "    loan_dataset[cat] = loan_dataset[cat].astype(\"object\")\n",
    "\n",
    "pred=\"default\"\n",
    "\n",
    "X = loan_dataset.copy().drop([pred], axis=1)\n",
    "y = (loan_dataset.copy()[pred] != f\"{pred}-no\").astype(int).values"
   ]
  },
  {
   "cell_type": "code",
   "execution_count": 120,
   "id": "3d24b1dc-66a4-4793-9e4a-e8b25b383f49",
   "metadata": {},
   "outputs": [
    {
     "data": {
      "text/plain": [
       "Pipeline(steps=[('preprocessor',\n",
       "                 ColumnTransformer(transformers=[('num',\n",
       "                                                  Pipeline(steps=[('scaler',\n",
       "                                                                   StandardScaler())]),\n",
       "                                                  ['education', 'age', 'income',\n",
       "                                                   'loan_size',\n",
       "                                                   'payment_timing', 'year',\n",
       "                                                   'job_stability']),\n",
       "                                                 ('cat',\n",
       "                                                  OneHotEncoder(handle_unknown='ignore'),\n",
       "                                                  ['sex', 'rent', 'minority',\n",
       "                                                   'ZIP', 'occupation'])])),\n",
       "                ('classifier', LogisticRegression())])"
      ]
     },
     "execution_count": 120,
     "metadata": {},
     "output_type": "execute_result"
    }
   ],
   "source": [
    "from sklearn.compose import ColumnTransformer\n",
    "from sklearn.linear_model import LogisticRegression\n",
    "from sklearn.model_selection import train_test_split\n",
    "from sklearn.pipeline import Pipeline\n",
    "from sklearn.preprocessing import StandardScaler, OneHotEncoder\n",
    "\n",
    "# Create preprocessor of features\n",
    "numeric_transformer = Pipeline(steps=[\n",
    "    ('scaler', StandardScaler())]\n",
    ")\n",
    "\n",
    "categorical_transformer = OneHotEncoder(handle_unknown='ignore')\n",
    "\n",
    "preprocessor = ColumnTransformer(\n",
    "    transformers=[\n",
    "        ('num', numeric_transformer, numeric_features),\n",
    "        ('cat', categorical_transformer, categorical_features)\n",
    "    ]\n",
    ")\n",
    "\n",
    "# Create pipeline\n",
    "clf = Pipeline(\n",
    "    steps=[\n",
    "        ('preprocessor', preprocessor),\n",
    "        ('classifier', LogisticRegression())\n",
    "    ]\n",
    ")\n",
    "\n",
    "# Split into train and test dataset\n",
    "X_train, X_test, y_train, y_test = train_test_split(\n",
    "    X, y, random_state=42\n",
    ")\n",
    "\n",
    "# Train classifier\n",
    "clf.fit(X_train, y_train)"
   ]
  },
  {
   "cell_type": "code",
   "execution_count": 122,
   "id": "f3943ac1-a00b-42cb-a3de-427cf0fa1b2c",
   "metadata": {},
   "outputs": [
    {
     "data": {
      "text/plain": [
       "array([1, 1, 1, ..., 0, 0, 0])"
      ]
     },
     "execution_count": 122,
     "metadata": {},
     "output_type": "execute_result"
    }
   ],
   "source": [
    "# Predict\n",
    "y_pred = clf.predict(X)\n",
    "y_pred"
   ]
  },
  {
   "cell_type": "markdown",
   "id": "f3cc3f32-bc0c-4852-bbe2-7e0b8e09edfa",
   "metadata": {},
   "source": [
    "# Quality of service harm"
   ]
  },
  {
   "cell_type": "markdown",
   "id": "5201885c-d5a0-4517-8308-50c6073a91d6",
   "metadata": {},
   "source": [
    "Let's define the __sensitive features__ for this dataset:"
   ]
  },
  {
   "cell_type": "code",
   "execution_count": 123,
   "id": "9c05c61e-cd43-4325-b18e-d49d82da21ef",
   "metadata": {},
   "outputs": [],
   "source": [
    "# Define sensitive features\n",
    "sensitive_features = [\"minority\", \"sex\"]"
   ]
  },
  {
   "cell_type": "markdown",
   "id": "1ebf035c-8992-4889-acd7-faa632d251dd",
   "metadata": {},
   "source": [
    "Let's inspect the accuracy of the model breaked by the values on each sensitive feature:"
   ]
  },
  {
   "cell_type": "code",
   "execution_count": 124,
   "id": "13052580-d53c-40af-b9c2-8e3eff4091ed",
   "metadata": {},
   "outputs": [
    {
     "data": {
      "text/html": [
       "<div>\n",
       "<style scoped>\n",
       "    .dataframe tbody tr th:only-of-type {\n",
       "        vertical-align: middle;\n",
       "    }\n",
       "\n",
       "    .dataframe tbody tr th {\n",
       "        vertical-align: top;\n",
       "    }\n",
       "\n",
       "    .dataframe thead th {\n",
       "        text-align: right;\n",
       "    }\n",
       "</style>\n",
       "<table border=\"1\" class=\"dataframe\">\n",
       "  <thead>\n",
       "    <tr style=\"text-align: right;\">\n",
       "      <th></th>\n",
       "      <th>precision</th>\n",
       "      <th>recall</th>\n",
       "    </tr>\n",
       "    <tr>\n",
       "      <th>minority</th>\n",
       "      <th></th>\n",
       "      <th></th>\n",
       "    </tr>\n",
       "  </thead>\n",
       "  <tbody>\n",
       "    <tr>\n",
       "      <th>minority-no</th>\n",
       "      <td>1.0</td>\n",
       "      <td>1.0</td>\n",
       "    </tr>\n",
       "    <tr>\n",
       "      <th>minority-yes</th>\n",
       "      <td>0.999695</td>\n",
       "      <td>1.0</td>\n",
       "    </tr>\n",
       "  </tbody>\n",
       "</table>\n",
       "</div>"
      ],
      "text/plain": [
       "             precision recall\n",
       "minority                     \n",
       "minority-no        1.0    1.0\n",
       "minority-yes  0.999695    1.0"
      ]
     },
     "metadata": {},
     "output_type": "display_data"
    },
    {
     "data": {
      "text/html": [
       "<div>\n",
       "<style scoped>\n",
       "    .dataframe tbody tr th:only-of-type {\n",
       "        vertical-align: middle;\n",
       "    }\n",
       "\n",
       "    .dataframe tbody tr th {\n",
       "        vertical-align: top;\n",
       "    }\n",
       "\n",
       "    .dataframe thead th {\n",
       "        text-align: right;\n",
       "    }\n",
       "</style>\n",
       "<table border=\"1\" class=\"dataframe\">\n",
       "  <thead>\n",
       "    <tr style=\"text-align: right;\">\n",
       "      <th></th>\n",
       "      <th>precision</th>\n",
       "      <th>recall</th>\n",
       "    </tr>\n",
       "    <tr>\n",
       "      <th>minority</th>\n",
       "      <th></th>\n",
       "      <th></th>\n",
       "    </tr>\n",
       "  </thead>\n",
       "  <tbody>\n",
       "    <tr>\n",
       "      <th>minority-no</th>\n",
       "      <td>1.0</td>\n",
       "      <td>1.0</td>\n",
       "    </tr>\n",
       "    <tr>\n",
       "      <th>minority-yes</th>\n",
       "      <td>0.999695</td>\n",
       "      <td>1.0</td>\n",
       "    </tr>\n",
       "  </tbody>\n",
       "</table>\n",
       "</div>"
      ],
      "text/plain": [
       "             precision recall\n",
       "minority                     \n",
       "minority-no        1.0    1.0\n",
       "minority-yes  0.999695    1.0"
      ]
     },
     "metadata": {},
     "output_type": "display_data"
    }
   ],
   "source": [
    "from fairlearn.metrics import MetricFrame\n",
    "from sklearn.metrics import recall_score, precision_score \n",
    "\n",
    "for sf in sensitive_features:\n",
    "    grouped_metric = MetricFrame(\n",
    "        {\"precision\": precision_score, \"recall\": recall_score}, y, y_pred,\n",
    "        sensitive_features=loan_dataset[\"minority\"]\n",
    "    )\n",
    "    grouped_metric.overall\n",
    "    grouped_metric_df = grouped_metric.by_group\n",
    "    display(grouped_metric_df)\n"
   ]
  },
  {
   "cell_type": "markdown",
   "id": "1f5c347f-a419-48f6-a079-7d43462693a2",
   "metadata": {},
   "source": [
    "# Quality of allocation harm"
   ]
  },
  {
   "cell_type": "code",
   "execution_count": 125,
   "id": "b5d885c8-4e63-473a-8fb1-ed8b809c8441",
   "metadata": {},
   "outputs": [
    {
     "data": {
      "text/html": [
       "<div>\n",
       "<style scoped>\n",
       "    .dataframe tbody tr th:only-of-type {\n",
       "        vertical-align: middle;\n",
       "    }\n",
       "\n",
       "    .dataframe tbody tr th {\n",
       "        vertical-align: top;\n",
       "    }\n",
       "\n",
       "    .dataframe thead th {\n",
       "        text-align: right;\n",
       "    }\n",
       "</style>\n",
       "<table border=\"1\" class=\"dataframe\">\n",
       "  <thead>\n",
       "    <tr style=\"text-align: right;\">\n",
       "      <th></th>\n",
       "      <th>default_predicted</th>\n",
       "      <th>default_true</th>\n",
       "    </tr>\n",
       "  </thead>\n",
       "  <tbody>\n",
       "    <tr>\n",
       "      <th>0</th>\n",
       "      <td>0.001453</td>\n",
       "      <td>0.001455</td>\n",
       "    </tr>\n",
       "    <tr>\n",
       "      <th>1</th>\n",
       "      <td>0.997851</td>\n",
       "      <td>0.998937</td>\n",
       "    </tr>\n",
       "  </tbody>\n",
       "</table>\n",
       "</div>"
      ],
      "text/plain": [
       "   default_predicted  default_true\n",
       "0           0.001453      0.001455\n",
       "1           0.997851      0.998937"
      ]
     },
     "metadata": {},
     "output_type": "display_data"
    },
    {
     "data": {
      "text/html": [
       "<div>\n",
       "<style scoped>\n",
       "    .dataframe tbody tr th:only-of-type {\n",
       "        vertical-align: middle;\n",
       "    }\n",
       "\n",
       "    .dataframe tbody tr th {\n",
       "        vertical-align: top;\n",
       "    }\n",
       "\n",
       "    .dataframe thead th {\n",
       "        text-align: right;\n",
       "    }\n",
       "</style>\n",
       "<table border=\"1\" class=\"dataframe\">\n",
       "  <thead>\n",
       "    <tr style=\"text-align: right;\">\n",
       "      <th></th>\n",
       "      <th>default_predicted</th>\n",
       "      <th>default_true</th>\n",
       "    </tr>\n",
       "  </thead>\n",
       "  <tbody>\n",
       "    <tr>\n",
       "      <th>0</th>\n",
       "      <td>0.5</td>\n",
       "      <td>0.499696</td>\n",
       "    </tr>\n",
       "    <tr>\n",
       "      <th>1</th>\n",
       "      <td>0.5</td>\n",
       "      <td>0.500000</td>\n",
       "    </tr>\n",
       "  </tbody>\n",
       "</table>\n",
       "</div>"
      ],
      "text/plain": [
       "   default_predicted  default_true\n",
       "0                0.5      0.499696\n",
       "1                0.5      0.500000"
      ]
     },
     "metadata": {},
     "output_type": "display_data"
    }
   ],
   "source": [
    "for sf in sensitive_features:\n",
    "    pred_grouped = pd.DataFrame({f\"{sf}\": loan_dataset[sf], \"y_pred\": y_pred, \"y_true\": y})\n",
    "    pred_vals = pred_grouped.groupby(sf).sum().values / loan_dataset[sf].value_counts().values\n",
    "    pred_grouped = pd.DataFrame(pred_vals, columns=[f\"{pred}_predicted\", f\"{pred}_true\"])\n",
    "    display(pred_grouped)\n"
   ]
  },
  {
   "cell_type": "code",
   "execution_count": null,
   "id": "ca52736e-90d9-4080-8cd0-f8727873e587",
   "metadata": {},
   "outputs": [],
   "source": []
  }
 ],
 "metadata": {
  "kernelspec": {
   "display_name": "Python 3",
   "language": "python",
   "name": "python3"
  },
  "language_info": {
   "codemirror_mode": {
    "name": "ipython",
    "version": 3
   },
   "file_extension": ".py",
   "mimetype": "text/x-python",
   "name": "python",
   "nbconvert_exporter": "python",
   "pygments_lexer": "ipython3",
   "version": "3.8.10"
  }
 },
 "nbformat": 4,
 "nbformat_minor": 5
}
