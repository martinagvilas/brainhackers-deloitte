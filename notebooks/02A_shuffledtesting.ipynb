{
 "cells": [
  {
   "cell_type": "markdown",
   "id": "d924e018-64bc-4243-8c0e-f433ad1a51ff",
   "metadata": {},
   "source": [
    "# Testing trained decoder on shuffled data"
   ]
  },
  {
   "cell_type": "code",
   "execution_count": 2,
   "id": "51a2d571-cb6b-40d2-b6cf-aa2f9c4cc2d0",
   "metadata": {},
   "outputs": [],
   "source": [
    "import numpy as np\n",
    "import scipy as sp\n",
    "import pandas as pd\n",
    "import matplotlib.pyplot as plt\n",
    "import seaborn as sns"
   ]
  },
  {
   "cell_type": "code",
   "execution_count": 3,
   "id": "d88b7388-98e5-4f3f-8942-5e8fb1f6e725",
   "metadata": {},
   "outputs": [],
   "source": [
    "# load our data set\n",
    "loan_dataset = pd.read_csv(\"../datasets/loan.csv\")\n",
    "loan_dataset.head()\n",
    "\n",
    "# define numerical and categorical features\n",
    "numeric_features = [\n",
    "    \"education\", \"age\", \"income\", \"loan_size\", \n",
    "    \"payment_timing\", \"year\", \"job_stability\"]\n",
    "categorical_features = [\"minority\",\"sex\",\"ZIP\", \"rent\", \"occupation\"] #ASK MARTINA - I added minority & sex here\n",
    "\n",
    "# use all features (X) to predict default (y) (default = unsuccessful loan payment (1))\n",
    "X = loan_dataset.copy().drop([\"default\"], axis=1)\n",
    "y = loan_dataset.copy()[\"default\"]"
   ]
  },
  {
   "cell_type": "code",
   "execution_count": 4,
   "id": "0299346e-a7d5-4ddf-ab27-bd918ab7e913",
   "metadata": {},
   "outputs": [],
   "source": [
    "# split data into training and test half\n",
    "from sklearn.model_selection import train_test_split\n",
    "\n",
    "X_train, X_test, y_train, y_test = train_test_split(\n",
    "    X, y, random_state=42)"
   ]
  },
  {
   "cell_type": "code",
   "execution_count": 5,
   "id": "735d80fd-c6de-4e81-bb59-7be8d3194ac6",
   "metadata": {},
   "outputs": [
    {
     "name": "stdout",
     "output_type": "stream",
     "text": [
      "(360000, 12)\n",
      "(120000, 12)\n"
     ]
    }
   ],
   "source": [
    "# check training and test data size\n",
    "print(np.shape(X_train))\n",
    "print(np.shape(X_test))"
   ]
  },
  {
   "cell_type": "code",
   "execution_count": 5,
   "id": "d6bc6371-0a55-4dad-9db6-2c86aece56d3",
   "metadata": {},
   "outputs": [],
   "source": [
    "# display variable distributions - takes too long\n",
    "#train_dataset = X_train.copy()\n",
    "#train_dataset.insert(0, \"default\", y_train)\n",
    "#_ = sns.pairplot(train_dataset, kind='reg', diag_kind='kde')"
   ]
  },
  {
   "cell_type": "code",
   "execution_count": 7,
   "id": "9e4211fc-5a1a-41bf-9e42-704461dd6180",
   "metadata": {},
   "outputs": [],
   "source": [
    "# shuffle sensitive / important features\n",
    "import random\n",
    "from sklearn.utils import shuffle\n",
    "X_test_shuffleMinority = X_test.copy()\n",
    "X_test_shuffleMinority[\"minority\"] = np.random.permutation(X_test[\"minority\"].values)\n",
    "X_test_shuffleJob = X_test.copy()\n",
    "X_test_shuffleJob[\"job_stability\"] = np.random.permutation(X_test[\"job_stability\"].values)\n",
    "X_test_shuffleSex = X_test.copy()\n",
    "X_test_shuffleSex[\"sex\"] = np.random.permutation(X_test[\"sex\"].values)\n",
    "# inspect if shuffling worked\n",
    "#[X_test_shuffle[\"minority\"],X_test[\"minority\"]]\n"
   ]
  },
  {
   "cell_type": "code",
   "execution_count": 8,
   "id": "4e64c95b-30ad-4966-8f8c-9670367e053a",
   "metadata": {},
   "outputs": [],
   "source": [
    "# Create preprocessor of features\n",
    "from sklearn.compose import ColumnTransformer\n",
    "from sklearn.linear_model import LogisticRegression\n",
    "from sklearn.model_selection import cross_validate, StratifiedKFold\n",
    "from sklearn.pipeline import Pipeline\n",
    "from sklearn.preprocessing import StandardScaler, OneHotEncoder\n",
    "numeric_transformer = Pipeline(steps=[\n",
    "    ('scaler', StandardScaler())]\n",
    ")\n",
    "\n",
    "categorical_transformer = OneHotEncoder(handle_unknown='ignore')\n",
    "\n",
    "preprocessor = ColumnTransformer(\n",
    "    transformers=[\n",
    "        ('num', numeric_transformer, numeric_features),\n",
    "        ('cat', categorical_transformer, categorical_features)\n",
    "    ]\n",
    ")"
   ]
  },
  {
   "cell_type": "code",
   "execution_count": 9,
   "id": "2b15817e-daa8-4335-9b02-e4f4473d6181",
   "metadata": {},
   "outputs": [],
   "source": [
    "# Create pipeline\n",
    "clf = Pipeline(\n",
    "    steps=[\n",
    "        ('preprocessor', preprocessor),\n",
    "        ('classifier', LogisticRegression())\n",
    "    ]\n",
    ")\n"
   ]
  },
  {
   "cell_type": "code",
   "execution_count": 10,
   "id": "3bdd3213-dee4-4f39-a611-59e10ef8afee",
   "metadata": {},
   "outputs": [],
   "source": [
    "# train model\n",
    "clf = clf.fit(X_train, y_train)"
   ]
  },
  {
   "cell_type": "code",
   "execution_count": 11,
   "id": "510e4e87-f6f8-46f2-b1e8-6ab85860524a",
   "metadata": {},
   "outputs": [
    {
     "name": "stdout",
     "output_type": "stream",
     "text": [
      "1.0\n",
      "1.0\n",
      "0.5551126603178839\n",
      "1.0\n"
     ]
    }
   ],
   "source": [
    "# check model performance\n",
    "from sklearn.metrics import median_absolute_error\n",
    "from sklearn.metrics import recall_score\n",
    "\n",
    "\n",
    "y_pred = clf.predict(X_test)\n",
    "y_predShuffleMinority = clf.predict(X_test_shuffleMinority)\n",
    "y_predShuffleJob = clf.predict(X_test_shuffleJob)\n",
    "y_predShuffleSex = clf.predict(X_test_shuffleSex)\n",
    "\n",
    "score = recall_score(y_test, y_pred)\n",
    "scoreShuffleMinority  = recall_score(y_test, y_predShuffleMinority)\n",
    "scoreShuffleJob  = recall_score(y_test, y_predShuffleJob)\n",
    "scoreShuffleSex  = recall_score(y_test, y_predShuffleSex)\n",
    "\n",
    "print(score)\n",
    "print(scoreShuffleMinority)\n",
    "print(scoreShuffleJob)\n",
    "print(scoreShuffleSex)\n"
   ]
  },
  {
   "cell_type": "code",
   "execution_count": 12,
   "id": "93196ee3-f660-4350-accd-18e6f4a20a81",
   "metadata": {},
   "outputs": [
    {
     "name": "stdout",
     "output_type": "stream",
     "text": [
      "[ 0.95767577  0.07992972  0.64166704 -0.75653382 -0.0786503   0.27700887\n",
      " -6.67297882 -1.27630454  1.27667445 -0.91071978  0.91108969 -3.01198045\n",
      "  2.10650973 -1.30095508  2.20679572 -0.07325879  0.0736287  -1.27630454\n",
      "  1.60310087 -0.32642642]\n"
     ]
    },
    {
     "data": {
      "text/plain": [
       "(20,)"
      ]
     },
     "execution_count": 12,
     "metadata": {},
     "output_type": "execute_result"
    }
   ],
   "source": [
    "# get predictor weights\n",
    "feature_weights = clf[-1].coef_[0]\n",
    "print(feature_weights)\n",
    "np.shape(feature_weights)\n"
   ]
  },
  {
   "cell_type": "code",
   "execution_count": 13,
   "id": "7a746850-5fa3-4951-952c-3d50a42e8007",
   "metadata": {},
   "outputs": [
    {
     "name": "stdout",
     "output_type": "stream",
     "text": [
      "['education' 'age' 'income' 'loan_size' 'payment_timing' 'year'\n",
      " 'job_stability' 'minority_0' 'minority_1' 'sex_0' 'sex_1' 'ZIP_MT01RA'\n",
      " 'ZIP_MT04PA' 'ZIP_MT12RA' 'ZIP_MT15PA' 'rent_0' 'rent_1'\n",
      " 'occupation_MZ01CD' 'occupation_MZ10CD' 'occupation_MZ11CD']\n",
      "(20,)\n"
     ]
    }
   ],
   "source": [
    "# extract feature names\n",
    "feature_names = clf[0].named_transformers_['cat'].get_feature_names(input_features=categorical_features)\n",
    "feature_names = np.concatenate(\n",
    "    [numeric_features,feature_names]) # which order??\n",
    "print(feature_names)\n",
    "print(feature_names.shape)"
   ]
  },
  {
   "cell_type": "code",
   "execution_count": 14,
   "id": "b43da42d-2799-408c-9b0a-a22b4975b224",
   "metadata": {},
   "outputs": [],
   "source": [
    "coefs = pd.DataFrame(\n",
    "    feature_weights,\n",
    "    columns=['Coefficients'], index=feature_names\n",
    ")"
   ]
  },
  {
   "cell_type": "code",
   "execution_count": 15,
   "id": "468fb53e-dea7-4a1f-b038-4fd02019436c",
   "metadata": {},
   "outputs": [
    {
     "data": {
      "text/plain": [
       "<AxesSubplot:>"
      ]
     },
     "execution_count": 15,
     "metadata": {},
     "output_type": "execute_result"
    },
    {
     "data": {
      "image/png": "[encoded data removed]",
      "text/plain": [
       "<Figure size 648x504 with 1 Axes>"
      ]
     },
     "metadata": {
      "needs_background": "light"
     },
     "output_type": "display_data"
    }
   ],
   "source": [
    "coefs.plot(kind='barh', figsize=(9, 7))\n"
   ]
  },
  {
   "cell_type": "code",
   "execution_count": 16,
   "id": "2afe3021-372e-4092-a775-c3950d27ce72",
   "metadata": {},
   "outputs": [
    {
     "data": {
      "image/png": "[encoded data removed]",
      "text/plain": [
       "<Figure size 648x504 with 1 Axes>"
      ]
     },
     "metadata": {
      "needs_background": "light"
     },
     "output_type": "display_data"
    }
   ],
   "source": [
    "# getting standard deviation of features\n",
    "X_train_preprocessed = pd.DataFrame(clf[0].transform(X_train),columns=feature_names)\n",
    "\n",
    "X_train_preprocessed.std(axis=0).plot(kind='barh', figsize=(9, 7))\n",
    "plt.title('Features std. dev.')\n",
    "plt.subplots_adjust(left=.3)"
   ]
  },
  {
   "cell_type": "code",
   "execution_count": 17,
   "id": "6ca38bba-6e2a-4fb7-a671-b37c6b6b4178",
   "metadata": {},
   "outputs": [
    {
     "data": {
      "image/png": "[encoded data removed]",
      "text/plain": [
       "<Figure size 648x504 with 1 Axes>"
      ]
     },
     "metadata": {
      "needs_background": "light"
     },
     "output_type": "display_data"
    }
   ],
   "source": [
    "# correcting feature coefficients by standard deviation\n",
    "# quote tutorial: In that way, we emphasize that the greater the variance of \n",
    "# a feature, the larger the weight of the corresponding coefficient on the output, all else being equal.\n",
    "coefsCorr = pd.DataFrame(feature_weights *X_train_preprocessed.std(axis=0),\n",
    "    columns=['Coefficient importance'], index=feature_names\n",
    ")\n",
    "coefsCorr.plot(kind='barh', figsize=(9, 7))\n",
    "plt.title('Loan model coefficients, corrected for std')\n",
    "plt.axvline(x=0, color='.5')\n",
    "plt.subplots_adjust(left=.3)"
   ]
  },
  {
   "cell_type": "code",
   "execution_count": 64,
   "id": "5440d089-00b2-41d3-99e7-3d435639ecf9",
   "metadata": {},
   "outputs": [],
   "source": [
    "# checking variability of coefficients\n",
    "#from sklearn.model_selection import cross_validate\n",
    "#from sklearn.model_selection import RepeatedKFold\n",
    "\n",
    "#cv_model = cross_validate(\n",
    "#    clf, X, y, cv=RepeatedKFold(n_splits=5, n_repeats=5),\n",
    "#    return_estimator=True, n_jobs=-1\n",
    "#)\n",
    "#coefsModel = pd.DataFrame(\n",
    "#    [est[1].coef_ *\n",
    "#     X_train_preprocessed.std(axis=0)\n",
    "#     for est in cv_model['estimator']],\n",
    "#    columns=feature_names\n",
    "#)\n",
    "\n",
    "#plt.figure(figsize=(9, 7))\n",
    "#sns.stripplot(data=coefsModel, orient='h', color='k', alpha=0.5)\n",
    "#sns.boxplot(data=coefsModel, orient='h', color='cyan', saturation=0.5)\n",
    "#plt.axvline(x=0, color='.5')\n",
    "#plt.xlabel('Coefficient importance')\n",
    "#plt.title('Coefficient importance and its variability')\n",
    "#plt.subplots_adjust(left=.3)"
   ]
  },
  {
   "cell_type": "code",
   "execution_count": 65,
   "id": "22a28074-776b-4592-bb87-8d36886b6c02",
   "metadata": {},
   "outputs": [],
   "source": [
    "#np.shape(cv_model['estimator'])\n"
   ]
  }
 ],
 "metadata": {
  "kernelspec": {
   "display_name": "Python 3",
   "language": "python",
   "name": "python3"
  },
  "language_info": {
   "codemirror_mode": {
    "name": "ipython",
    "version": 3
   },
   "file_extension": ".py",
   "mimetype": "text/x-python",
   "name": "python",
   "nbconvert_exporter": "python",
   "pygments_lexer": "ipython3",
   "version": "3.8.10"
  }
 },
 "nbformat": 4,
 "nbformat_minor": 5
}
