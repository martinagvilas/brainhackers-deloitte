{
 "cells": [
  {
   "cell_type": "markdown",
   "id": "29d60893-5512-465b-8d72-2b80d6a6b171",
   "metadata": {},
   "source": [
    "# Detect unfair"
   ]
  },
  {
   "cell_type": "code",
   "execution_count": 1,
   "id": "549eb2a0-9fed-48d9-b630-6766331e0c1d",
   "metadata": {},
   "outputs": [],
   "source": [
    "import pandas as pd\n",
    "\n",
    "loan_dataset = pd.read_csv(\"../datasets/loan_train.csv\", index_col=0)\n",
    "loan_dataset.head()\n",
    "\n",
    "numeric_features = [\n",
    "    \"education\", \"age\", \"income\", \"loan_size\", \n",
    "    \"payment_timing\", \"year\", \"job_stability\"\n",
    "]\n",
    "\n",
    "categorical_features = [\"ZIP\", \"rent\", \"occupation\"]\n",
    "\n",
    "X = loan_dataset.copy().drop([\"default\"], axis=1)\n",
    "y = loan_dataset.copy()[\"default\"]"
   ]
  },
  {
   "cell_type": "code",
   "execution_count": 2,
   "id": "3d24b1dc-66a4-4793-9e4a-e8b25b383f49",
   "metadata": {},
   "outputs": [],
   "source": [
    "from sklearn.compose import ColumnTransformer\n",
    "from sklearn.linear_model import LogisticRegression\n",
    "from sklearn.model_selection import cross_validate, StratifiedKFold\n",
    "from sklearn.pipeline import Pipeline\n",
    "from sklearn.preprocessing import StandardScaler, OneHotEncoder\n",
    "\n",
    "# Create preprocessor of features\n",
    "numeric_transformer = Pipeline(steps=[\n",
    "    ('scaler', StandardScaler())]\n",
    ")\n",
    "\n",
    "categorical_transformer = OneHotEncoder(handle_unknown='ignore')\n",
    "\n",
    "preprocessor = ColumnTransformer(\n",
    "    transformers=[\n",
    "        ('num', numeric_transformer, numeric_features),\n",
    "        ('cat', categorical_transformer, categorical_features)\n",
    "    ]\n",
    ")\n",
    "\n",
    "# Create pipeline\n",
    "clf = Pipeline(\n",
    "    steps=[\n",
    "        ('preprocessor', preprocessor),\n",
    "        ('classifier', LogisticRegression())\n",
    "    ]\n",
    ")\n",
    "\n",
    "# Create cross-validatio strategy\n",
    "cv = StratifiedKFold(n_splits=10)\n",
    "\n",
    "# Compute accuracy of model\n",
    "cv_results = cross_validate(\n",
    "    clf, X, y, cv=cv\n",
    ")"
   ]
  },
  {
   "cell_type": "code",
   "execution_count": 3,
   "id": "6f729edd-d890-4819-9a43-c7a7c96c6b23",
   "metadata": {},
   "outputs": [],
   "source": [
    "from sklearn.model_selection import cross_val_predict\n",
    "\n",
    "y_pred = cross_val_predict(\n",
    "    clf, X, y, cv=cv\n",
    ")"
   ]
  },
  {
   "cell_type": "code",
   "execution_count": 4,
   "id": "db03a9da-a3ef-4c33-a5d1-60ce2d6362c9",
   "metadata": {},
   "outputs": [],
   "source": [
    "from sklearn.metrics import recall_score\n",
    "\n",
    "score = recall_score(y, y_pred)"
   ]
  },
  {
   "cell_type": "code",
   "execution_count": 5,
   "id": "58e43e9d-a336-4241-8236-e371ec35b16e",
   "metadata": {},
   "outputs": [
    {
     "data": {
      "text/plain": [
       "1.0"
      ]
     },
     "execution_count": 5,
     "metadata": {},
     "output_type": "execute_result"
    }
   ],
   "source": [
    "score"
   ]
  },
  {
   "cell_type": "code",
   "execution_count": 6,
   "id": "13052580-d53c-40af-b9c2-8e3eff4091ed",
   "metadata": {},
   "outputs": [
    {
     "data": {
      "text/plain": [
       "{0: 1.0, 1: 1.0}"
      ]
     },
     "execution_count": 6,
     "metadata": {},
     "output_type": "execute_result"
    }
   ],
   "source": [
    "from fairlearn.metrics import MetricFrame\n",
    "\n",
    "grouped_metric = MetricFrame(\n",
    "    recall_score, y, y_pred,\n",
    "    sensitive_features=loan_dataset[\"minority\"]\n",
    ")\n",
    "grouped_metric.overall\n",
    "grouped_metric.by_group.to_dict()\n",
    "\n",
    "# Overall recall =  0.5\n",
    "# >>> print(\"recall by groups = \", grouped_metric.by_group.to_dict())\n",
    "# recall by groups =  {'a': 0.0, 'b': 0.5, 'c': 0.75, 'd': 0.0}"
   ]
  },
  {
   "cell_type": "code",
   "execution_count": 7,
   "id": "7fb8aa15-e740-4fb3-9d4f-c617c2227b8c",
   "metadata": {},
   "outputs": [
    {
     "data": {
      "text/plain": [
       "{0: 1.0, 1: 1.0}"
      ]
     },
     "execution_count": 7,
     "metadata": {},
     "output_type": "execute_result"
    }
   ],
   "source": [
    "gender_grouped_metric = MetricFrame(\n",
    "    recall_score, y, y_pred,\n",
    "    sensitive_features=loan_dataset[\"sex\"]\n",
    ")\n",
    "gender_grouped_metric.overall\n",
    "gender_grouped_metric.by_group.to_dict()"
   ]
  },
  {
   "cell_type": "markdown",
   "id": "1f5c347f-a419-48f6-a079-7d43462693a2",
   "metadata": {},
   "source": [
    "## Inspect predictions by group"
   ]
  },
  {
   "cell_type": "code",
   "execution_count": 12,
   "id": "b5d885c8-4e63-473a-8fb1-ed8b809c8441",
   "metadata": {},
   "outputs": [
    {
     "data": {
      "text/html": [
       "<div>\n",
       "<style scoped>\n",
       "    .dataframe tbody tr th:only-of-type {\n",
       "        vertical-align: middle;\n",
       "    }\n",
       "\n",
       "    .dataframe tbody tr th {\n",
       "        vertical-align: top;\n",
       "    }\n",
       "\n",
       "    .dataframe thead th {\n",
       "        text-align: right;\n",
       "    }\n",
       "</style>\n",
       "<table border=\"1\" class=\"dataframe\">\n",
       "  <thead>\n",
       "    <tr style=\"text-align: right;\">\n",
       "      <th></th>\n",
       "      <th>y_pred</th>\n",
       "      <th>y_true</th>\n",
       "    </tr>\n",
       "    <tr>\n",
       "      <th>minority</th>\n",
       "      <th></th>\n",
       "      <th></th>\n",
       "    </tr>\n",
       "  </thead>\n",
       "  <tbody>\n",
       "    <tr>\n",
       "      <th>0</th>\n",
       "      <td>349</td>\n",
       "      <td>349</td>\n",
       "    </tr>\n",
       "    <tr>\n",
       "      <th>1</th>\n",
       "      <td>239651</td>\n",
       "      <td>239578</td>\n",
       "    </tr>\n",
       "  </tbody>\n",
       "</table>\n",
       "</div>"
      ],
      "text/plain": [
       "          y_pred  y_true\n",
       "minority                \n",
       "0            349     349\n",
       "1         239651  239578"
      ]
     },
     "execution_count": 12,
     "metadata": {},
     "output_type": "execute_result"
    }
   ],
   "source": [
    "pred_grouped = pd.DataFrame({\"minority\": loan_dataset[\"minority\"], \"y_pred\": y_pred, \"y_true\": y})\n",
    "pred_grouped.groupby(\"minority\").sum()"
   ]
  },
  {
   "cell_type": "code",
   "execution_count": 13,
   "id": "6f7a71f1-1237-4fa7-b8a0-7fe1ad6452fb",
   "metadata": {},
   "outputs": [
    {
     "data": {
      "text/html": [
       "<div>\n",
       "<style scoped>\n",
       "    .dataframe tbody tr th:only-of-type {\n",
       "        vertical-align: middle;\n",
       "    }\n",
       "\n",
       "    .dataframe tbody tr th {\n",
       "        vertical-align: top;\n",
       "    }\n",
       "\n",
       "    .dataframe thead th {\n",
       "        text-align: right;\n",
       "    }\n",
       "</style>\n",
       "<table border=\"1\" class=\"dataframe\">\n",
       "  <thead>\n",
       "    <tr style=\"text-align: right;\">\n",
       "      <th></th>\n",
       "      <th>y_pred</th>\n",
       "      <th>y_true</th>\n",
       "    </tr>\n",
       "    <tr>\n",
       "      <th>sex</th>\n",
       "      <th></th>\n",
       "      <th></th>\n",
       "    </tr>\n",
       "  </thead>\n",
       "  <tbody>\n",
       "    <tr>\n",
       "      <th>0</th>\n",
       "      <td>120000</td>\n",
       "      <td>120000</td>\n",
       "    </tr>\n",
       "    <tr>\n",
       "      <th>1</th>\n",
       "      <td>120000</td>\n",
       "      <td>119927</td>\n",
       "    </tr>\n",
       "  </tbody>\n",
       "</table>\n",
       "</div>"
      ],
      "text/plain": [
       "     y_pred  y_true\n",
       "sex                \n",
       "0    120000  120000\n",
       "1    120000  119927"
      ]
     },
     "execution_count": 13,
     "metadata": {},
     "output_type": "execute_result"
    }
   ],
   "source": [
    "pred_grouped = pd.DataFrame({\"sex\": loan_dataset[\"sex\"], \"y_pred\": y_pred, \"y_true\": y})\n",
    "pred_grouped.groupby(\"sex\").sum()"
   ]
  },
  {
   "cell_type": "code",
   "execution_count": null,
   "id": "0f11dacf-dfe0-45e8-83cf-d3be101c62e9",
   "metadata": {},
   "outputs": [],
   "source": []
  }
 ],
 "metadata": {
  "kernelspec": {
   "display_name": "Python 3",
   "language": "python",
   "name": "python3"
  },
  "language_info": {
   "codemirror_mode": {
    "name": "ipython",
    "version": 3
   },
   "file_extension": ".py",
   "mimetype": "text/x-python",
   "name": "python",
   "nbconvert_exporter": "python",
   "pygments_lexer": "ipython3",
   "version": "3.8.10"
  }
 },
 "nbformat": 4,
 "nbformat_minor": 5
}
