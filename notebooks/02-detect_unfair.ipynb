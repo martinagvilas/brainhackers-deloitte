{
 "cells": [
  {
   "cell_type": "markdown",
   "id": "29d60893-5512-465b-8d72-2b80d6a6b171",
   "metadata": {},
   "source": [
    "# Detect unfair"
   ]
  },
  {
   "cell_type": "code",
   "execution_count": 1,
   "id": "549eb2a0-9fed-48d9-b630-6766331e0c1d",
   "metadata": {},
   "outputs": [],
   "source": [
    "import pandas as pd\n",
    "\n",
    "loan_dataset = pd.read_csv(\"../datasets/loan_train.csv\", index_col=0)\n",
    "loan_dataset.head()\n",
    "\n",
    "numeric_features = [\n",
    "    \"education\", \"age\", \"income\", \"loan_size\", \n",
    "    \"payment_timing\", \"year\", \"job_stability\"\n",
    "]\n",
    "\n",
    "categorical_features = [\"ZIP\", \"rent\", \"occupation\"]\n",
    "\n",
    "X = loan_dataset.copy().drop([\"minority\", \"default\"], axis=1)\n",
    "y = loan_dataset.copy()[\"default\"]"
   ]
  },
  {
   "cell_type": "code",
   "execution_count": 2,
   "id": "3d24b1dc-66a4-4793-9e4a-e8b25b383f49",
   "metadata": {},
   "outputs": [],
   "source": [
    "from sklearn.compose import ColumnTransformer\n",
    "from sklearn.linear_model import LogisticRegression\n",
    "from sklearn.model_selection import cross_validate, StratifiedKFold\n",
    "from sklearn.pipeline import Pipeline\n",
    "from sklearn.preprocessing import StandardScaler, OneHotEncoder\n",
    "\n",
    "# Create preprocessor of features\n",
    "numeric_transformer = Pipeline(steps=[\n",
    "    ('scaler', StandardScaler())]\n",
    ")\n",
    "\n",
    "categorical_transformer = OneHotEncoder(handle_unknown='ignore')\n",
    "\n",
    "preprocessor = ColumnTransformer(\n",
    "    transformers=[\n",
    "        ('num', numeric_transformer, numeric_features),\n",
    "        ('cat', categorical_transformer, categorical_features)\n",
    "    ]\n",
    ")\n",
    "\n",
    "# Create pipeline\n",
    "clf = Pipeline(\n",
    "    steps=[\n",
    "        ('preprocessor', preprocessor),\n",
    "        ('classifier', LogisticRegression())\n",
    "    ]\n",
    ")\n",
    "\n",
    "# Create cross-validatio strategy\n",
    "cv = StratifiedKFold(n_splits=10)\n",
    "\n",
    "# Compute accuracy of model\n",
    "cv_results = cross_validate(\n",
    "    clf, X, y, cv=cv\n",
    ")"
   ]
  },
  {
   "cell_type": "code",
   "execution_count": 7,
   "id": "6f729edd-d890-4819-9a43-c7a7c96c6b23",
   "metadata": {},
   "outputs": [],
   "source": [
    "from sklearn.model_selection import cross_val_predict\n",
    "\n",
    "y_pred = cross_val_predict(\n",
    "    clf, X, y, cv=cv\n",
    ")"
   ]
  },
  {
   "cell_type": "code",
   "execution_count": 8,
   "id": "db03a9da-a3ef-4c33-a5d1-60ce2d6362c9",
   "metadata": {},
   "outputs": [],
   "source": [
    "from sklearn.metrics import recall_score\n",
    "\n",
    "score = recall_score(y, y_pred)"
   ]
  },
  {
   "cell_type": "code",
   "execution_count": 9,
   "id": "58e43e9d-a336-4241-8236-e371ec35b16e",
   "metadata": {},
   "outputs": [
    {
     "data": {
      "text/plain": [
       "1.0"
      ]
     },
     "execution_count": 9,
     "metadata": {},
     "output_type": "execute_result"
    }
   ],
   "source": [
    "score"
   ]
  },
  {
   "cell_type": "code",
   "execution_count": 11,
   "id": "13052580-d53c-40af-b9c2-8e3eff4091ed",
   "metadata": {},
   "outputs": [
    {
     "data": {
      "text/plain": [
       "{0: 1.0, 1: 1.0}"
      ]
     },
     "execution_count": 11,
     "metadata": {},
     "output_type": "execute_result"
    }
   ],
   "source": [
    "from fairlearn.metrics import MetricFrame\n",
    "\n",
    "grouped_metric = MetricFrame(\n",
    "    recall_score, y, y_pred,\n",
    "    sensitive_features=loan_dataset[\"minority\"]\n",
    ")\n",
    "grouped_metric.overall\n",
    "grouped_metric.by_group.to_dict()\n",
    "\n",
    "# Overall recall =  0.5\n",
    "# >>> print(\"recall by groups = \", grouped_metric.by_group.to_dict())\n",
    "# recall by groups =  {'a': 0.0, 'b': 0.5, 'c': 0.75, 'd': 0.0}"
   ]
  },
  {
   "cell_type": "code",
   "execution_count": 12,
   "id": "7fb8aa15-e740-4fb3-9d4f-c617c2227b8c",
   "metadata": {},
   "outputs": [
    {
     "data": {
      "text/plain": [
       "{0: 1.0, 1: 1.0}"
      ]
     },
     "execution_count": 12,
     "metadata": {},
     "output_type": "execute_result"
    }
   ],
   "source": [
    "gender_grouped_metric = MetricFrame(\n",
    "    recall_score, y, y_pred,\n",
    "    sensitive_features=loan_dataset[\"sex\"]\n",
    ")\n",
    "gender_grouped_metric.overall\n",
    "gender_grouped_metric.by_group.to_dict()"
   ]
  },
  {
   "cell_type": "code",
   "execution_count": null,
   "id": "295c4a30-c76d-4026-bb0f-fe6a866ea332",
   "metadata": {},
   "outputs": [],
   "source": []
  }
 ],
 "metadata": {
  "kernelspec": {
   "display_name": "Python 3",
   "language": "python",
   "name": "python3"
  },
  "language_info": {
   "codemirror_mode": {
    "name": "ipython",
    "version": 3
   },
   "file_extension": ".py",
   "mimetype": "text/x-python",
   "name": "python",
   "nbconvert_exporter": "python",
   "pygments_lexer": "ipython3",
   "version": "3.8.10"
  }
 },
 "nbformat": 4,
 "nbformat_minor": 5
}
